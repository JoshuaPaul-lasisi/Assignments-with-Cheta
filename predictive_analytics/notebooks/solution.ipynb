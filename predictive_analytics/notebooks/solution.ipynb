{
 "cells": [
  {
   "cell_type": "code",
   "execution_count": 32,
   "id": "5ad56f7c",
   "metadata": {},
   "outputs": [],
   "source": [
    "# 0. Imports and helper functions"
   ]
  },
  {
   "cell_type": "code",
   "execution_count": 33,
   "id": "e49946cc",
   "metadata": {},
   "outputs": [],
   "source": [
    "import os\n",
    "import pandas as pd\n",
    "import numpy as np\n",
    "import matplotlib.pyplot as plt\n",
    "from sklearn.model_selection import train_test_split\n",
    "from sklearn.preprocessing import StandardScaler\n",
    "from sklearn.metrics import accuracy_score, precision_score, recall_score, f1_score, roc_auc_score\n",
    "import statsmodels.api as sm\n",
    "\n",
    "try:\n",
    "    from prophet import Prophet\n",
    "    PROPHET_AVAILABLE = True\n",
    "except Exception:\n",
    "    PROPHET_AVAILABLE = False\n",
    "\n",
    "from sklearn.linear_model import LogisticRegression\n",
    "from xgboost import XGBClassifier"
   ]
  },
  {
   "cell_type": "code",
   "execution_count": 34,
   "metadata": {},
   "outputs": [],
   "source": [
    "# For LSTM\n",
    "try:\n",
    "    from tensorflow.keras.models import Sequential\n",
    "    from tensorflow.keras.layers import LSTM, Dense, Dropout\n",
    "    from tensorflow.keras.preprocessing.sequence import TimeseriesGenerator\n",
    "    KERAS_AVAILABLE = True\n",
    "except Exception:\n",
    "    KERAS_AVAILABLE = False\n",
    "\n",
    "import warnings\n",
    "warnings.filterwarnings('ignore')"
   ]
  },
  {
   "cell_type": "code",
   "execution_count": 35,
   "id": "e78b66dc",
   "metadata": {},
   "outputs": [],
   "source": [
    "# Folder setup\n",
    "REPORTS_DIR = os.path.join(\"..\", \"reports\")\n",
    "IMAGES_DIR = os.path.join(REPORTS_DIR, \"images\")\n",
    "os.makedirs(IMAGES_DIR, exist_ok=True)\n",
    "\n",
    "def save_dataframe(df, filename):\n",
    "    df.to_csv(os.path.join(REPORTS_DIR, filename), index=False)\n",
    "\n",
    "def save_text(text, filename):\n",
    "    with open(os.path.join(REPORTS_DIR, filename), \"w\") as f:\n",
    "        f.write(text)\n",
    "\n",
    "def save_plot(fig, filename):\n",
    "    fig.savefig(os.path.join(IMAGES_DIR, filename), dpi=300, bbox_inches='tight')\n",
    "    plt.close(fig)"
   ]
  },
  {
   "cell_type": "code",
   "execution_count": 36,
   "id": "2cbd5bd5",
   "metadata": {},
   "outputs": [],
   "source": [
    "# 1. Load data"
   ]
  },
  {
   "cell_type": "code",
   "execution_count": 37,
   "id": "1afc2f9f",
   "metadata": {},
   "outputs": [],
   "source": [
    "def load_data(path='superstore.csv'):\n",
    "    df = pd.read_csv(path, parse_dates=['order_date','ship_date'])\n",
    "    df['postal_code'] = df['postal_code'].astype(str)\n",
    "    return df"
   ]
  },
  {
   "cell_type": "code",
   "execution_count": 38,
   "id": "1681d035",
   "metadata": {},
   "outputs": [],
   "source": [
    "# 2. Basic cleaning & EDA helpers"
   ]
  },
  {
   "cell_type": "code",
   "execution_count": 39,
   "metadata": {},
   "outputs": [],
   "source": [
    "def basic_cleaning(df):\n",
    "    df = df.dropna(subset=['order_id','sales'])\n",
    "    df['sales'] = pd.to_numeric(df['sales'], errors='coerce')\n",
    "    df['profit'] = pd.to_numeric(df['profit'], errors='coerce')\n",
    "    df['discount'] = pd.to_numeric(df['discount'], errors='coerce')\n",
    "    df['quantity'] = pd.to_numeric(df['quantity'], errors='coerce')\n",
    "    return df"
   ]
  },
  {
   "cell_type": "code",
   "execution_count": 40,
   "id": "c6d5939c",
   "metadata": {},
   "outputs": [],
   "source": [
    "# Quick EDA summary\n",
    "def eda_summary(df):\n",
    "    summary = f\"Rows: {len(df)}\\nDate range: {df['order_date'].min()} -> {df['order_date'].max()}\\n\"\n",
    "    summary += str(df[['sales','profit','discount','quantity']].describe())\n",
    "    save_text(summary, \"eda_summary.txt\")"
   ]
  },
  {
   "cell_type": "code",
   "execution_count": 41,
   "id": "fd11fcac",
   "metadata": {},
   "outputs": [],
   "source": [
    "# 3. Forecasting sales by category / sub_category / region"
   ]
  },
  {
   "cell_type": "code",
   "execution_count": 42,
   "id": "080be454",
   "metadata": {},
   "outputs": [],
   "source": [
    "# Aggregate sales to monthly series per group\n",
    "def aggregate_monthly(df, group_cols=['category']):\n",
    "    df2 = df.copy()\n",
    "    df2['year_month'] = df2['order_date'].dt.to_period('M').dt.to_timestamp()\n",
    "    grouped = df2.groupby(group_cols + ['year_month']).agg({'sales':'sum'}).reset_index()\n",
    "    return grouped"
   ]
  },
  {
   "cell_type": "code",
   "execution_count": 43,
   "id": "1eec0819",
   "metadata": {},
   "outputs": [],
   "source": [
    "# Prepare a dataframe for Prophet: columns ds, y\n",
    "def prepare_prophet_df(grouped, group_values, group_cols=['category']):\n",
    "    g = grouped.copy()\n",
    "    for c,v in group_values.items():\n",
    "        g = g[g[c]==v]\n",
    "    g = g.sort_values('year_month')\n",
    "    prophet_df = g[['year_month','sales']].rename(columns={'year_month':'ds','sales':'y'})\n",
    "    prophet_df['ds'] = pd.to_datetime(prophet_df['ds'])\n",
    "    return prophet_df"
   ]
  },
  {
   "cell_type": "code",
   "execution_count": 44,
   "metadata": {},
   "outputs": [],
   "source": [
    "# Forecast with Prophet\n",
    "def forecast_with_prophet(prophet_df, periods=12, freq='M'):\n",
    "    m = Prophet()\n",
    "    m.fit(prophet_df)\n",
    "    future = m.make_future_dataframe(periods=periods, freq=freq)\n",
    "    forecast = m.predict(future)\n",
    "    return forecast"
   ]
  },
  {
   "cell_type": "code",
   "execution_count": 45,
   "id": "009a8b33",
   "metadata": {},
   "outputs": [],
   "source": [
    "def run_category_forecasts(df, group_cols=['category'], periods=12):\n",
    "    grouped = aggregate_monthly(df, group_cols=group_cols)\n",
    "    forecasts = []\n",
    "    for _, row in grouped[group_cols].drop_duplicates().iterrows():\n",
    "        group_values = {c: row[c] for c in group_cols}\n",
    "        prophet_df = prepare_prophet_df(grouped, group_values, group_cols=group_cols)\n",
    "        if len(prophet_df) < 12:\n",
    "            continue\n",
    "        if PROPHET_AVAILABLE:\n",
    "            forecast = forecast_with_prophet(prophet_df, periods=periods)\n",
    "            fc = forecast[['ds','yhat']].tail(periods)\n",
    "            fc['group'] = str(group_values)\n",
    "            forecasts.append(fc)\n",
    "    if forecasts:\n",
    "        result = pd.concat(forecasts, ignore_index=True)\n",
    "        save_dataframe(result, \"category_forecasts.csv\")\n",
    "        return result\n",
    "    return pd.DataFrame()"
   ]
  },
  {
   "cell_type": "code",
   "execution_count": 46,
   "id": "7d6f7b07",
   "metadata": {},
   "outputs": [],
   "source": [
    "# 4. Customer churn modelling (RFM + classification)"
   ]
  },
  {
   "cell_type": "code",
   "execution_count": 47,
   "id": "8a97ea06",
   "metadata": {},
   "outputs": [],
   "source": [
    "def build_rfm(df, snapshot_date=None):\n",
    "    if snapshot_date is None:\n",
    "        snapshot_date = df['order_date'].max() + pd.Timedelta(days=1)\n",
    "    cust = df.groupby('customer_id').agg({\n",
    "        'order_date': lambda x: (snapshot_date - x.max()).days,\n",
    "        'order_id': 'nunique',\n",
    "        'sales': 'sum',\n",
    "        'quantity': 'sum',\n",
    "        'discount':'mean'\n",
    "    }).rename(columns={'order_date':'recency','order_id':'frequency','sales':'monetary','discount':'avg_discount','quantity':'total_qty'}).reset_index()\n",
    "    return cust"
   ]
  },
  {
   "cell_type": "code",
   "execution_count": 48,
   "id": "31b78e5c",
   "metadata": {},
   "outputs": [],
   "source": [
    "# Label churn: customers with no orders in last N days\n",
    "def label_churn(df, churn_days=180):\n",
    "    snapshot_date = df['order_date'].max() + pd.Timedelta(days=1)\n",
    "    last_purchase = df.groupby('customer_id')['order_date'].max().reset_index()\n",
    "    last_purchase['days_since_last'] = (snapshot_date - last_purchase['order_date']).dt.days\n",
    "    last_purchase['churn_label'] = (last_purchase['days_since_last'] > churn_days).astype(int)\n",
    "    return last_purchase[['customer_id','churn_label']]"
   ]
  },
  {
   "cell_type": "code",
   "execution_count": 49,
   "id": "19886a0c",
   "metadata": {},
   "outputs": [],
   "source": [
    "def train_churn_model(df):\n",
    "    rfm = build_rfm(df)\n",
    "    churn = label_churn(df)\n",
    "    data = rfm.merge(churn, on='customer_id')\n",
    "    X = data[['recency','frequency','monetary','avg_discount','total_qty']].fillna(0)\n",
    "    y = data['churn_label']\n",
    "    X_train, X_test, y_train, y_test = train_test_split(X, y, test_size=0.2, stratify=y, random_state=42)\n",
    "    scaler = StandardScaler()\n",
    "    X_train_s = scaler.fit_transform(X_train)\n",
    "    X_test_s = scaler.transform(X_test)\n",
    "    xgb = XGBClassifier(use_label_encoder=False, eval_metric='logloss', random_state=42)\n",
    "    xgb.fit(X_train_s, y_train)\n",
    "    y_pred = xgb.predict(X_test_s)\n",
    "    metrics = {\n",
    "        'accuracy': accuracy_score(y_test, y_pred),\n",
    "        'precision': precision_score(y_test, y_pred),\n",
    "        'recall': recall_score(y_test, y_pred),\n",
    "        'f1': f1_score(y_test, y_pred),\n",
    "        'roc_auc': roc_auc_score(y_test, xgb.predict_proba(X_test_s)[:,1])\n",
    "    }\n",
    "    save_text(str(metrics), \"churn_model_metrics.txt\")\n",
    "    return xgb"
   ]
  },
  {
   "cell_type": "code",
   "execution_count": 61,
   "metadata": {},
   "outputs": [],
   "source": [
    "def discount_profit_regression(df):\n",
    "    d = df.dropna(subset=['profit','discount','sales','quantity','category','region']).copy()\n",
    "    d['log_sales'] = np.log1p(d['sales'])\n",
    "    # Create dummy vars\n",
    "    X = pd.concat([\n",
    "        d[['discount','quantity','log_sales']], \n",
    "        pd.get_dummies(d['category'], drop_first=True, dtype=float),\n",
    "        pd.get_dummies(d['region'], drop_first=True, dtype=float)\n",
    "    ], axis=1)\n",
    "    X = sm.add_constant(X)\n",
    "    # Ensure numeric types\n",
    "    X = X.apply(pd.to_numeric, errors='coerce')\n",
    "    y = pd.to_numeric(d['profit'], errors='coerce')\n",
    "    # Drop rows with NaNs after conversion\n",
    "    valid_idx = X.notnull().all(axis=1) & y.notnull()\n",
    "    X = X.loc[valid_idx]\n",
    "    y = y.loc[valid_idx]\n",
    "    model = sm.OLS(y, X).fit(cov_type='HC3')\n",
    "    save_text(model.summary().as_text(), \"discount_profit_regression.txt\")\n",
    "    return model"
   ]
  },
  {
   "cell_type": "code",
   "execution_count": 51,
   "id": "4ee3f985",
   "metadata": {},
   "outputs": [],
   "source": [
    "# 6. Putting it all together - run pipeline"
   ]
  },
  {
   "cell_type": "code",
   "execution_count": 62,
   "id": "6ac997f5",
   "metadata": {},
   "outputs": [],
   "source": [
    "def run_full_pipeline(path='../data/raw/superstore.csv'):\n",
    "    df = basic_cleaning(load_data(path))\n",
    "    eda_summary(df)\n",
    "    run_category_forecasts(df)\n",
    "    train_churn_model(df)\n",
    "    discount_profit_regression(df)\n",
    "    print(\"\\n✅ Project completed successfully! All results and images are saved in ../reports and ../reports/images.\")"
   ]
  },
  {
   "cell_type": "code",
   "execution_count": 63,
   "id": "a4060539",
   "metadata": {},
   "outputs": [
    {
     "name": "stderr",
     "output_type": "stream",
     "text": [
      "21:59:19 - cmdstanpy - INFO - Chain [1] start processing\n",
      "21:59:19 - cmdstanpy - INFO - Chain [1] done processing\n",
      "21:59:20 - cmdstanpy - INFO - Chain [1] start processing\n",
      "21:59:20 - cmdstanpy - INFO - Chain [1] done processing\n",
      "21:59:21 - cmdstanpy - INFO - Chain [1] start processing\n",
      "21:59:22 - cmdstanpy - INFO - Chain [1] done processing\n"
     ]
    },
    {
     "name": "stdout",
     "output_type": "stream",
     "text": [
      "\n",
      "✅ Project completed successfully! All results and images are saved in ../reports and ../reports/images.\n"
     ]
    }
   ],
   "source": [
    "if __name__ == '__main__':\n",
    "    run_full_pipeline('../data/raw/superstore.csv')"
   ]
  }
 ],
 "metadata": {
  "kernelspec": {
   "display_name": "Python 3",
   "language": "python",
   "name": "python3"
  },
  "language_info": {
   "codemirror_mode": {
    "name": "ipython",
    "version": 3
   },
   "file_extension": ".py",
   "mimetype": "text/x-python",
   "name": "python",
   "nbconvert_exporter": "python",
   "pygments_lexer": "ipython3",
   "version": "3.12.1"
  }
 },
 "nbformat": 4,
 "nbformat_minor": 5
}
